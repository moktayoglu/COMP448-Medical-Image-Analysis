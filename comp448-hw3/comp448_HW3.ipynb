{
  "nbformat": 4,
  "nbformat_minor": 0,
  "metadata": {
    "colab": {
      "provenance": [],
      "gpuType": "T4"
    },
    "kernelspec": {
      "name": "python3",
      "display_name": "Python 3"
    },
    "language_info": {
      "name": "python"
    },
    "accelerator": "GPU"
  },
  "cells": [
    {
      "cell_type": "code",
      "source": [
        "from google.colab import drive\n",
        "drive.mount('/content/drive')"
      ],
      "metadata": {
        "colab": {
          "base_uri": "https://localhost:8080/"
        },
        "id": "VBlgiMjEUGJ5",
        "outputId": "da024333-8574-448b-b8de-6ef1bf2dd504"
      },
      "execution_count": 43,
      "outputs": [
        {
          "output_type": "stream",
          "name": "stdout",
          "text": [
            "Drive already mounted at /content/drive; to attempt to forcibly remount, call drive.mount(\"/content/drive\", force_remount=True).\n"
          ]
        }
      ]
    },
    {
      "cell_type": "code",
      "execution_count": 44,
      "metadata": {
        "id": "4wTLuuEYUCVz"
      },
      "outputs": [],
      "source": [
        "data_dir = \"/content/drive/MyDrive/comp448-hw3/dataset_4\""
      ]
    },
    {
      "cell_type": "code",
      "source": [
        "import torch\n",
        "from torchvision import datasets, models, transforms\n",
        "import copy\n",
        "import torch.nn as nn\n",
        "import torch.optim as optim\n",
        "from torch.optim import lr_scheduler\n",
        "import os\n",
        "import numpy as np"
      ],
      "metadata": {
        "id": "V2GsG5rYU087"
      },
      "execution_count": 45,
      "outputs": []
    },
    {
      "cell_type": "code",
      "source": [
        "#load pretrained alexNet\n",
        "model_conv = models.alexnet(pretrained = True)\n",
        "\n",
        "#freeze weights\n",
        "for param in model_conv.parameters():\n",
        "    param.requires_grad = False"
      ],
      "metadata": {
        "id": "aRQ6xPZrUnj7",
        "colab": {
          "base_uri": "https://localhost:8080/"
        },
        "outputId": "3f91bf30-1d9e-4154-d58b-c31013323450"
      },
      "execution_count": 46,
      "outputs": [
        {
          "output_type": "stream",
          "name": "stderr",
          "text": [
            "/usr/local/lib/python3.10/dist-packages/torchvision/models/_utils.py:208: UserWarning: The parameter 'pretrained' is deprecated since 0.13 and may be removed in the future, please use 'weights' instead.\n",
            "  warnings.warn(\n",
            "/usr/local/lib/python3.10/dist-packages/torchvision/models/_utils.py:223: UserWarning: Arguments other than a weight enum or `None` for 'weights' are deprecated since 0.13 and may be removed in the future. The current behavior is equivalent to passing `weights=AlexNet_Weights.IMAGENET1K_V1`. You can also use `weights=AlexNet_Weights.DEFAULT` to get the most up-to-date weights.\n",
            "  warnings.warn(msg)\n"
          ]
        }
      ]
    },
    {
      "cell_type": "code",
      "source": [
        "#see model arch\n",
        "print(model_conv)"
      ],
      "metadata": {
        "colab": {
          "base_uri": "https://localhost:8080/"
        },
        "id": "F4JO73i9lO7L",
        "outputId": "e10972a9-9f49-4b9f-a834-52fc183c406c"
      },
      "execution_count": 47,
      "outputs": [
        {
          "output_type": "stream",
          "name": "stdout",
          "text": [
            "AlexNet(\n",
            "  (features): Sequential(\n",
            "    (0): Conv2d(3, 64, kernel_size=(11, 11), stride=(4, 4), padding=(2, 2))\n",
            "    (1): ReLU(inplace=True)\n",
            "    (2): MaxPool2d(kernel_size=3, stride=2, padding=0, dilation=1, ceil_mode=False)\n",
            "    (3): Conv2d(64, 192, kernel_size=(5, 5), stride=(1, 1), padding=(2, 2))\n",
            "    (4): ReLU(inplace=True)\n",
            "    (5): MaxPool2d(kernel_size=3, stride=2, padding=0, dilation=1, ceil_mode=False)\n",
            "    (6): Conv2d(192, 384, kernel_size=(3, 3), stride=(1, 1), padding=(1, 1))\n",
            "    (7): ReLU(inplace=True)\n",
            "    (8): Conv2d(384, 256, kernel_size=(3, 3), stride=(1, 1), padding=(1, 1))\n",
            "    (9): ReLU(inplace=True)\n",
            "    (10): Conv2d(256, 256, kernel_size=(3, 3), stride=(1, 1), padding=(1, 1))\n",
            "    (11): ReLU(inplace=True)\n",
            "    (12): MaxPool2d(kernel_size=3, stride=2, padding=0, dilation=1, ceil_mode=False)\n",
            "  )\n",
            "  (avgpool): AdaptiveAvgPool2d(output_size=(6, 6))\n",
            "  (classifier): Sequential(\n",
            "    (0): Dropout(p=0.5, inplace=False)\n",
            "    (1): Linear(in_features=9216, out_features=4096, bias=True)\n",
            "    (2): ReLU(inplace=True)\n",
            "    (3): Dropout(p=0.5, inplace=False)\n",
            "    (4): Linear(in_features=4096, out_features=4096, bias=True)\n",
            "    (5): ReLU(inplace=True)\n",
            "    (6): Linear(in_features=4096, out_features=1000, bias=True)\n",
            "  )\n",
            ")\n"
          ]
        }
      ]
    },
    {
      "cell_type": "code",
      "source": [
        "no_classes = 3\n",
        "#set the last layer, to be 3-classed\n",
        "model_conv.classifier[6] = nn.Linear(model_conv.classifier[6].in_features, no_classes)"
      ],
      "metadata": {
        "id": "Q2ICWTAWhaZl"
      },
      "execution_count": 48,
      "outputs": []
    },
    {
      "cell_type": "code",
      "source": [
        "criterion = nn.CrossEntropyLoss() \n",
        "optimizer_conv = optim.SGD(model_conv.parameters(), lr=0.001, momentum=0.9)\n",
        "exp_lr_scheduler = lr_scheduler.StepLR(optimizer_conv, step_size=1, gamma=0.1)"
      ],
      "metadata": {
        "id": "qjYXojGFZW7w"
      },
      "execution_count": 49,
      "outputs": []
    },
    {
      "cell_type": "code",
      "source": [
        "#switch to GPU\n",
        "device = torch.device(\"cuda:0\" if torch.cuda.is_available() else \"cpu\")\n",
        "model_conv = model_conv.to(device) "
      ],
      "metadata": {
        "id": "vHdFbVpwkviW"
      },
      "execution_count": 50,
      "outputs": []
    },
    {
      "cell_type": "code",
      "source": [
        "#resize for input and put to tensor the imgs\n",
        "data_transforms = {\n",
        " 'train': transforms.Compose([\n",
        "    #in the paper, input size is 224\n",
        "    transforms.Resize(224),\n",
        "    transforms.ToTensor(),\n",
        "    #transforms.Normalize(mean=[0.485, 0.456, 0.406],\n",
        "                                     #std=[0.229, 0.224, 0.225])\n",
        " ]),\n",
        " 'val': transforms.Compose([\n",
        "    transforms.Resize(224),\n",
        "    transforms.ToTensor(),\n",
        "    #transforms.Normalize(mean=[0.485, 0.456, 0.406],\n",
        "                                     #std=[0.229, 0.224, 0.225])\n",
        "   ]),                        \n",
        " 'test': transforms.Compose([\n",
        "    transforms.Resize(224),\n",
        "    transforms.ToTensor(),\n",
        "    #transforms.Normalize(mean=[0.485, 0.456, 0.406],\n",
        "                                     #std=[0.229, 0.224, 0.225])\n",
        "   ])\n",
        "}\n",
        "\n",
        "image_datasets = {x: datasets.ImageFolder(os.path.join(data_dir, x),\n",
        " data_transforms[x]) for x in ['train', 'val', 'test']}  "
      ],
      "metadata": {
        "id": "RHFQWLBQai82"
      },
      "execution_count": 59,
      "outputs": []
    },
    {
      "cell_type": "code",
      "source": [
        "#Address class imbalance problem using weights\n",
        "weights = {}\n",
        "for x in ['train', 'val', 'test']:\n",
        "    c_counts = np.zeros(3) \n",
        "    labels = image_datasets[x].targets\n",
        "\n",
        "    for l in labels:\n",
        "        c_counts[l] += 1\n",
        "        \n",
        "    weights[x] = np.zeros(len(labels))\n",
        "    for i in range(len(labels)):\n",
        "        weights[x][i] = len(labels) / (3.0 * c_counts[labels[i]])\n",
        "\n",
        "\n",
        "sampler = {x: torch.utils.data.sampler.WeightedRandomSampler(weights[x], len(weights[x])) for x in ['train', 'val', 'test']}"
      ],
      "metadata": {
        "id": "46-8zN1TnbOG"
      },
      "execution_count": 60,
      "outputs": []
    },
    {
      "cell_type": "code",
      "source": [
        "def train_model(image_datasets, model, criterion, optimizer, scheduler, num_epochs):\n",
        "  dataloaders = {x: torch.utils.data.DataLoader(image_datasets[x], batch_size = 4, #shuffle = True, \n",
        "                                                sampler = sampler[x], num_workers = 4 ) for x in ['train', 'val']}\n",
        "  best_model_wts = copy.deepcopy(model.state_dict())\n",
        "  best_no_corrects = 0\n",
        "  for epoch in range(num_epochs):\n",
        "    # Set the model to the training mode for updating the weights using \n",
        "    # the first portion of training images\n",
        "    model.train() \n",
        "    for inputs, labels in dataloaders['train']: # iterate over data\n",
        "      inputs = inputs.to(device)\n",
        "      labels = labels.to(device)\n",
        "      optimizer.zero_grad()\n",
        "      with torch.set_grad_enabled(True):\n",
        "        outputs = model(inputs)\n",
        "        _, preds = torch.max(outputs, 1)\n",
        "        loss = criterion(outputs, labels)\n",
        "        loss.backward()\n",
        "        optimizer.step()\n",
        "    # Set the model to the evaluation mode for selecting the best network \n",
        "    # based on the number of correctly classified validation images\n",
        "    model.eval()\n",
        "    no_corrects = 0\n",
        "    for inputs, labels in dataloaders['val']:\n",
        "      inputs = inputs.to(device)\n",
        "      labels = labels.to(device)\n",
        "      with torch.set_grad_enabled(False):\n",
        "        outputs = model(inputs)\n",
        "        _, preds = torch.max(outputs, 1)\n",
        "        no_corrects += torch.sum(preds == labels.data)\n",
        "    if no_corrects > best_no_corrects:\n",
        "      best_no_corrects = no_corrects\n",
        "      best_model_wts = copy.deepcopy(model.state_dict())\n",
        "    scheduler.step()\n",
        "  # Load the weights of the best network\n",
        "  model.load_state_dict(best_model_wts)\n",
        "  return model"
      ],
      "metadata": {
        "id": "bDTIdF0EVOzW"
      },
      "execution_count": 61,
      "outputs": []
    },
    {
      "cell_type": "code",
      "source": [
        "model = train_model(image_datasets, model_conv, criterion, optimizer_conv, exp_lr_scheduler, 100)"
      ],
      "metadata": {
        "id": "S7-8Rq6WgcTW"
      },
      "execution_count": 62,
      "outputs": []
    },
    {
      "cell_type": "code",
      "source": [
        "#performance\n",
        "model.eval()\n",
        "dataloaders = {x: torch.utils.data.DataLoader(image_datasets[x], batch_size = 4, #shuffle = True, \n",
        "                                              sampler = sampler[x], num_workers = 4 ) for x in ['train', 'val', 'test']}"
      ],
      "metadata": {
        "id": "VYsoLDKai7Y2"
      },
      "execution_count": 63,
      "outputs": []
    },
    {
      "cell_type": "code",
      "source": [
        "# Calculate Accuracy\n",
        "with torch.no_grad():\n",
        "    all = 0\n",
        "    for x in ['train', 'val', 'test']:        \n",
        "        conf_mat = torch.zeros(3, 3)\n",
        "\n",
        "        for ins, labels in dataloaders[x] :\n",
        "            ins = ins.to(device)\n",
        "            labels = labels.to(device)\n",
        "            outputs = model_conv(ins)\n",
        "            _, preds = torch.max(outputs, 1)\n",
        "            for i in range((np.prod(labels.size()))):\n",
        "                conf_mat[labels[i]][preds[i]] += 1\n",
        "        \n",
        "        #look for diagonal to get true positives\n",
        "        acc = conf_mat.diag()/conf_mat.sum(1)\n",
        "        \n",
        "        all = conf_mat.diag().sum() / conf_mat.sum()\n",
        "        print(x, \":\")\n",
        "        print(conf_mat)\n",
        "        print(\"Accuracy: \", acc)\n",
        "        print(\"Overall Accuracy: \", all.item())\n",
        "        print()\n"
      ],
      "metadata": {
        "colab": {
          "base_uri": "https://localhost:8080/"
        },
        "id": "EYSlI9zDHnsp",
        "outputId": "ba3145fb-9e94-4b68-e0bb-95178e386c8d"
      },
      "execution_count": 64,
      "outputs": [
        {
          "output_type": "stream",
          "name": "stdout",
          "text": [
            "train :\n",
            "tensor([[25.,  9., 28.],\n",
            "        [ 0., 32., 30.],\n",
            "        [ 0.,  0., 62.]])\n",
            "Accuracy:  tensor([0.4032, 0.5161, 1.0000])\n",
            "Overall Accuracy:  0.6397849321365356\n",
            "\n",
            "val :\n",
            "tensor([[ 3.,  1.,  7.],\n",
            "        [ 0.,  9.,  2.],\n",
            "        [ 0.,  0., 24.]])\n",
            "Accuracy:  tensor([0.2727, 0.8182, 1.0000])\n",
            "Overall Accuracy:  0.782608687877655\n",
            "\n",
            "test :\n",
            "tensor([[25.,  5., 18.],\n",
            "        [ 0., 32., 18.],\n",
            "        [ 0.,  0., 46.]])\n",
            "Accuracy:  tensor([0.5208, 0.6400, 1.0000])\n",
            "Overall Accuracy:  0.7152777910232544\n",
            "\n"
          ]
        }
      ]
    }
  ]
}